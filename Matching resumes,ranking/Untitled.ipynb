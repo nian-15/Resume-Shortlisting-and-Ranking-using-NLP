{
 "cells": [
  {
   "cell_type": "code",
   "execution_count": 25,
   "id": "3236a91d",
   "metadata": {},
   "outputs": [],
   "source": [
    "import pandas as pd\n",
    "import re\n"
   ]
  },
  {
   "cell_type": "code",
   "execution_count": 26,
   "id": "ef9c80f1",
   "metadata": {},
   "outputs": [],
   "source": [
    "resumes = pd.read_csv('resumes_req.csv')\n",
    "job_requirements = pd.read_csv('jobs_req.csv')\n"
   ]
  },
  {
   "cell_type": "code",
   "execution_count": 27,
   "id": "77fc76db",
   "metadata": {},
   "outputs": [],
   "source": [
    "skills = ['python', 'sql', 'machine learning', 'data analysis', 'statistics']\n",
    "keywords = ['data scientist', 'data analysis', 'machine learning', 'statistics']\n"
   ]
  },
  {
   "cell_type": "code",
   "execution_count": 28,
   "id": "b733e18a",
   "metadata": {},
   "outputs": [],
   "source": [
    "def score_resume(resume_text):\n",
    "    # Convert the resume text to lowercase\n",
    "    resume_text = resume_text.lower()\n",
    "    \n",
    "    # Calculate the number of matching skills and keywords\n",
    "    num_skills = sum(1 for skill in skills if re.search(skill, resume_text))\n",
    "    num_keywords = sum(1 for keyword in keywords if re.search(keyword, resume_text))\n",
    "    \n",
    "    # Return the total score\n",
    "    return num_skills + num_keywords\n"
   ]
  },
  {
   "cell_type": "code",
   "execution_count": 29,
   "id": "3dbdf676",
   "metadata": {},
   "outputs": [],
   "source": [
    "resumes['score'] = resumes['Resume'].apply(score_resume)"
   ]
  },
  {
   "cell_type": "code",
   "execution_count": 31,
   "id": "3de965e3",
   "metadata": {},
   "outputs": [],
   "source": [
    "matches = job_requirements[job_requirements['Resume'].str.contains('|'.join(keywords))]\n",
    "matched_resumes = pd.merge(matches, resumes, on='Resume', how='left')\n"
   ]
  },
  {
   "cell_type": "code",
   "execution_count": 32,
   "id": "9b9d4f28",
   "metadata": {},
   "outputs": [],
   "source": [
    "matched_resumes.sort_values(by='score', ascending=False, inplace=True)"
   ]
  },
  {
   "cell_type": "code",
   "execution_count": 34,
   "id": "dff04ef9",
   "metadata": {},
   "outputs": [
    {
     "name": "stdout",
     "output_type": "stream",
     "text": [
      "                                               Resume  score  \\\n",
      "10  Skills Ã¢Â€Â¢ Python Ã¢Â€Â¢ Tableau Ã¢Â€Â¢ Dat...      6   \n",
      "11  Skills Ã¢Â€Â¢ Python Ã¢Â€Â¢ Tableau Ã¢Â€Â¢ Dat...      6   \n",
      "8   Skills Ã¢Â€Â¢ Python Ã¢Â€Â¢ Tableau Ã¢Â€Â¢ Dat...      6   \n",
      "9   Skills Ã¢Â€Â¢ Python Ã¢Â€Â¢ Tableau Ã¢Â€Â¢ Dat...      6   \n",
      "18  Education Details \\r\\nMay 2013 to May 2017 B.E...      4   \n",
      "17  Education Details \\r\\nMay 2013 to May 2017 B.E...      4   \n",
      "16  Education Details \\r\\nMay 2013 to May 2017 B.E...      4   \n",
      "15  Education Details \\r\\n B.Tech   Rayat and Bahr...      4   \n",
      "14  Education Details \\r\\n B.Tech   Rayat and Bahr...      4   \n",
      "13  Education Details \\r\\n B.Tech   Rayat and Bahr...      4   \n",
      "\n",
      "                                               Resume  \n",
      "10  Skills Ã¢Â€Â¢ Python Ã¢Â€Â¢ Tableau Ã¢Â€Â¢ Dat...  \n",
      "11  Skills Ã¢Â€Â¢ Python Ã¢Â€Â¢ Tableau Ã¢Â€Â¢ Dat...  \n",
      "8   Skills Ã¢Â€Â¢ Python Ã¢Â€Â¢ Tableau Ã¢Â€Â¢ Dat...  \n",
      "9   Skills Ã¢Â€Â¢ Python Ã¢Â€Â¢ Tableau Ã¢Â€Â¢ Dat...  \n",
      "18  Education Details \\r\\nMay 2013 to May 2017 B.E...  \n",
      "17  Education Details \\r\\nMay 2013 to May 2017 B.E...  \n",
      "16  Education Details \\r\\nMay 2013 to May 2017 B.E...  \n",
      "15  Education Details \\r\\n B.Tech   Rayat and Bahr...  \n",
      "14  Education Details \\r\\n B.Tech   Rayat and Bahr...  \n",
      "13  Education Details \\r\\n B.Tech   Rayat and Bahr...  \n"
     ]
    }
   ],
   "source": [
    "print(matched_resumes[['Resume', 'score', 'Resume']].head(10))"
   ]
  },
  {
   "cell_type": "code",
   "execution_count": null,
   "id": "6a7c1ee1",
   "metadata": {},
   "outputs": [],
   "source": []
  }
 ],
 "metadata": {
  "kernelspec": {
   "display_name": "Python 3 (ipykernel)",
   "language": "python",
   "name": "python3"
  },
  "language_info": {
   "codemirror_mode": {
    "name": "ipython",
    "version": 3
   },
   "file_extension": ".py",
   "mimetype": "text/x-python",
   "name": "python",
   "nbconvert_exporter": "python",
   "pygments_lexer": "ipython3",
   "version": "3.9.7"
  }
 },
 "nbformat": 4,
 "nbformat_minor": 5
}
